{
 "cells": [
  {
   "cell_type": "code",
   "execution_count": 4,
   "metadata": {},
   "outputs": [],
   "source": [
    "import pandas as pd\n",
    "import numpy as np\n",
    "import glob\n",
    "import functions\n",
    "from tqdm import tqdm"
   ]
  },
  {
   "cell_type": "code",
   "execution_count": 5,
   "metadata": {},
   "outputs": [
    {
     "name": "stderr",
     "output_type": "stream",
     "text": [
      "100%|████████████████████████████████████████████████████████████████████████████████| 170/170 [02:43<00:00,  1.04it/s]\n"
     ]
    }
   ],
   "source": [
    "list_of_dfs = []\n",
    "\n",
    "for file in tqdm(glob.glob(r'H:\\HBS Data\\Drift III\\data\\version1.0\\cvr\\output/*')):\n",
    "        temp = pd.read_csv(file\n",
    "                           , sep='\\t'\n",
    "                           , encoding='utf-8'\n",
    "                           , usecols = ['ID', 'firma', 'dato']\n",
    "                          )\n",
    "        df = functions.firm_name(temp)\n",
    "        list_of_dfs.append(df)\n",
    "        \n",
    "data = pd.concat(list_of_dfs)\n",
    "\n",
    "data.reset_index(inplace=True, drop=True)"
   ]
  },
  {
   "cell_type": "code",
   "execution_count": null,
   "metadata": {},
   "outputs": [],
   "source": [
    "df.real_firm_name.value_counts()"
   ]
  },
  {
   "cell_type": "code",
   "execution_count": null,
   "metadata": {},
   "outputs": [],
   "source": [
    "df[df.real_firm_name != 'delete']"
   ]
  },
  {
   "cell_type": "code",
   "execution_count": null,
   "metadata": {},
   "outputs": [],
   "source": [
    "for name,list_ in zip(list_of_names,list_of_lists):\n",
    "    print(name, '          ', list_[0])"
   ]
  },
  {
   "cell_type": "code",
   "execution_count": null,
   "metadata": {},
   "outputs": [],
   "source": []
  }
 ],
 "metadata": {
  "kernelspec": {
   "display_name": "Python 3",
   "language": "python",
   "name": "python3"
  },
  "language_info": {
   "codemirror_mode": {
    "name": "ipython",
    "version": 3
   },
   "file_extension": ".py",
   "mimetype": "text/x-python",
   "name": "python",
   "nbconvert_exporter": "python",
   "pygments_lexer": "ipython3",
   "version": "3.7.4"
  }
 },
 "nbformat": 4,
 "nbformat_minor": 4
}
